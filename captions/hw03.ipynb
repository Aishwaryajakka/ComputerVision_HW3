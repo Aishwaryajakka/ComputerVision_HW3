{
  "nbformat": 4,
  "nbformat_minor": 0,
  "metadata": {
    "colab": {
      "name": "hw03.ipynb",
      "provenance": [],
      "collapsed_sections": [],
      "machine_shape": "hm"
    },
    "kernelspec": {
      "display_name": "Python 3",
      "name": "python3"
    },
    "language_info": {
      "name": "python"
    },
    "accelerator": "GPU"
  },
  "cells": [
    {
      "cell_type": "markdown",
      "metadata": {
        "id": "_1BZonc24hwY"
      },
      "source": [
        "#Homework 3 \n",
        "\n",
        "### Aishwarya Jakka <aij12@pitt.edu>"
      ]
    },
    {
      "cell_type": "code",
      "metadata": {
        "colab": {
          "base_uri": "https://localhost:8080/"
        },
        "id": "ILyrg6D75D9F",
        "outputId": "eae6ce32-ce39-468b-fe81-dfe8c5db7753"
      },
      "source": [
        "import nltk\n",
        "nltk.download('punkt')"
      ],
      "execution_count": 1,
      "outputs": [
        {
          "output_type": "stream",
          "text": [
            "[nltk_data] Downloading package punkt to /root/nltk_data...\n",
            "[nltk_data]   Package punkt is already up-to-date!\n"
          ],
          "name": "stdout"
        },
        {
          "output_type": "execute_result",
          "data": {
            "text/plain": [
              "True"
            ]
          },
          "metadata": {
            "tags": []
          },
          "execution_count": 1
        }
      ]
    },
    {
      "cell_type": "code",
      "metadata": {
        "id": "Uw9ZWDDP5GiL"
      },
      "source": [
        "### COCO DATASET\n",
        "#!unzip /content/val2017.zip\n",
        "#!rm /content/val2017.zip"
      ],
      "execution_count": 2,
      "outputs": []
    },
    {
      "cell_type": "code",
      "metadata": {
        "colab": {
          "base_uri": "https://localhost:8080/"
        },
        "id": "a4dbSP1o5HXh",
        "outputId": "e9254fa0-b47d-4224-9cf9-50c5ba058b24"
      },
      "source": [
        "!python3 /content/scripts/data_loader.py --output_dir /content/data --image_dir /content/val2017 --coco_data_file /content/captions/captions_val2017.json"
      ],
      "execution_count": 2,
      "outputs": [
        {
          "output_type": "stream",
          "text": [
            "loading annotations into memory...\n",
            "Done (t=0.04s)\n",
            "creating index...\n",
            "index created!\n",
            "Outputting COCO data sets as: /content/data/coco.pkl\n"
          ],
          "name": "stdout"
        }
      ]
    },
    {
      "cell_type": "code",
      "metadata": {
        "colab": {
          "base_uri": "https://localhost:8080/"
        },
        "id": "JZfa0HGSOeIK",
        "outputId": "f991a15e-65d0-45c2-8d98-edd0f4f64767"
      },
      "source": [
        "!wget http://nlp.stanford.edu/data/glove.6B.zip\n",
        "!unzip /content/glove.6B.zip\n",
        "!rm /content/glove.6B.zip\n",
        "!rm /content/glove.6B.100d.txt\n",
        "!rm /content/glove.6B.200d.txt\n",
        "!rm /content/glove.6B.300d.txt\n"
      ],
      "execution_count": 4,
      "outputs": [
        {
          "output_type": "stream",
          "text": [
            "--2021-05-04 15:39:14--  http://nlp.stanford.edu/data/glove.6B.zip\n",
            "Resolving nlp.stanford.edu (nlp.stanford.edu)... 171.64.67.140\n",
            "Connecting to nlp.stanford.edu (nlp.stanford.edu)|171.64.67.140|:80... connected.\n",
            "HTTP request sent, awaiting response... 302 Found\n",
            "Location: https://nlp.stanford.edu/data/glove.6B.zip [following]\n",
            "--2021-05-04 15:39:14--  https://nlp.stanford.edu/data/glove.6B.zip\n",
            "Connecting to nlp.stanford.edu (nlp.stanford.edu)|171.64.67.140|:443... connected.\n",
            "HTTP request sent, awaiting response... 301 Moved Permanently\n",
            "Location: http://downloads.cs.stanford.edu/nlp/data/glove.6B.zip [following]\n",
            "--2021-05-04 15:39:14--  http://downloads.cs.stanford.edu/nlp/data/glove.6B.zip\n",
            "Resolving downloads.cs.stanford.edu (downloads.cs.stanford.edu)... 171.64.64.22\n",
            "Connecting to downloads.cs.stanford.edu (downloads.cs.stanford.edu)|171.64.64.22|:80... connected.\n",
            "HTTP request sent, awaiting response... 200 OK\n",
            "Length: 862182613 (822M) [application/zip]\n",
            "Saving to: ‘glove.6B.zip’\n",
            "\n",
            "glove.6B.zip        100%[===================>] 822.24M  5.32MB/s    in 2m 41s  \n",
            "\n",
            "2021-05-04 15:41:56 (5.10 MB/s) - ‘glove.6B.zip’ saved [862182613/862182613]\n",
            "\n",
            "Archive:  /content/glove.6B.zip\n",
            "  inflating: glove.6B.50d.txt        \n",
            "  inflating: glove.6B.100d.txt       \n",
            "  inflating: glove.6B.200d.txt       \n",
            "  inflating: glove.6B.300d.txt       \n"
          ],
          "name": "stdout"
        }
      ]
    },
    {
      "cell_type": "code",
      "metadata": {
        "colab": {
          "base_uri": "https://localhost:8080/"
        },
        "id": "_ZWPA6PTdPJb",
        "outputId": "e6880096-9e0f-4678-9632-7657adf96b85"
      },
      "source": [
        "!python3 /content/scripts/data_loader.py --glove_embedding /content/glove.6B.50d.txt --output_dir /content/data\n",
        "!rm /content/glove.6B.50d.txt"
      ],
      "execution_count": 5,
      "outputs": [
        {
          "output_type": "stream",
          "text": [
            "Reading GloVe embeddings...\n",
            "Outputting GloVe embeddings to file /content/data/glove.pkl\n",
            "Reading Word2Vec embeddings...\n",
            "[==================================================] 100.0% 1662.8/1662.8MB downloaded\n",
            "tcmalloc: large alloc 3600007168 bytes == 0x559432ce0000 @  0x7f98dd4cf001 0x7f98d9ed954f 0x7f98d9f29b58 0x7f98d9f2db17 0x7f98d9fcc203 0x559425ab30e4 0x559425ab2de0 0x559425b276f5 0x559425b21e0d 0x559425ab477a 0x559425b2386a 0x559425b21b0e 0x559425ab477a 0x559425b2386a 0x559425ab469a 0x559425b26e50 0x559425b21b0e 0x559425ab477a 0x559425b26e50 0x559425b21e0d 0x559425ab477a 0x559425b22a45 0x559425b21b0e 0x559425b21813 0x559425beb592 0x559425beb90d 0x559425beb7b6 0x559425bc3103 0x559425bc2dac 0x7f98dc2b7bf7 0x559425bc2c8a\n",
            "Outputting Word2Vec embeddings to file /content/data/word2vec.pkl\n"
          ],
          "name": "stdout"
        }
      ]
    },
    {
      "cell_type": "code",
      "metadata": {
        "id": "T7aQCWIqFmoV"
      },
      "source": [
        "#Goodnews\n",
        "!python3 /content/scripts/data_loader.py --news_download_images --news_data_file /content/good_news.txt --image_dir /content/good_news --output_dir /content/data"
      ],
      "execution_count": null,
      "outputs": []
    },
    {
      "cell_type": "code",
      "metadata": {
        "id": "0pVLVJOIFjt6"
      },
      "source": [
        "## PART A\n",
        "!python3 /content/scripts/hw3.py --data_dir /content/data --output_dir /content/output"
      ],
      "execution_count": null,
      "outputs": []
    },
    {
      "cell_type": "code",
      "metadata": {
        "id": "3dBJLLQvFYye"
      },
      "source": [
        "## PART B - cross-domain evaluation\n",
        "python3 /content/scripts/hw3.py --cross_domain_eval --data_dir /content/data --output_dir /content/output"
      ],
      "execution_count": null,
      "outputs": []
    },
    {
      "cell_type": "code",
      "metadata": {
        "id": "Nze96Beoe60_"
      },
      "source": [
        "## PART B _ Cross domain adaptation ( model- alexnet, embeddings- gloVe, training set - coco, testing - goodnews)\n",
        "\n",
        "!python /content/scripts/hw3_adaptation.py --data_dir /content/data --output_dir /content/output"
      ],
      "execution_count": null,
      "outputs": []
    },
    {
      "cell_type": "code",
      "metadata": {
        "id": "-ZLZj8tWe68L"
      },
      "source": [
        "## PART C RESNET\n",
        "\n",
        "python3 /content/scripts/hw3.py --model res --data_dir /content/data --output_dir /content/output"
      ],
      "execution_count": null,
      "outputs": []
    },
    {
      "cell_type": "code",
      "metadata": {
        "id": "XpoGYprie7Cp"
      },
      "source": [
        "## PART C - Word2vec embedding instead of gloVe\n",
        "python3 /content/scripts/hw3.py --embedding w2v --data_dir /content/data --output_dir /content/output"
      ],
      "execution_count": null,
      "outputs": []
    }
  ]
}